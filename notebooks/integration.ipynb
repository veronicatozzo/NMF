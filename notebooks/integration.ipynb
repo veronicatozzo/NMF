{
 "cells": [
  {
   "cell_type": "code",
   "execution_count": null,
   "metadata": {},
   "outputs": [],
   "source": [
    "import pickle as pkl\n",
    "import numpy as np\n",
    "\n",
    "from sklearn.base import BaseEstimator\n"
   ]
  },
  {
   "cell_type": "code",
   "execution_count": null,
   "metadata": {},
   "outputs": [],
   "source": [
    "pwd"
   ]
  },
  {
   "cell_type": "code",
   "execution_count": null,
   "metadata": {},
   "outputs": [],
   "source": [
    "with open(\"/Users/veronica/Dropbox (DIBRIS)/project_ucl/best_estimator.pkl\", 'rb') as f:\n",
    "    u = pkl._Unpickler(f)\n",
    "    u.encoding = 'latin1'\n",
    "    p = u.load()\n",
    "    print(p)"
   ]
  },
  {
   "cell_type": "code",
   "execution_count": null,
   "metadata": {},
   "outputs": [],
   "source": [
    "p.G_\n",
    "mean = np.mean(p.S_, axis=0)\n",
    "mean.shape"
   ]
  },
  {
   "cell_type": "code",
   "execution_count": null,
   "metadata": {},
   "outputs": [],
   "source": [
    "integrated = p.G_.dot(mean).dot(p.G_.T)"
   ]
  },
  {
   "cell_type": "code",
   "execution_count": null,
   "metadata": {},
   "outputs": [],
   "source": [
    "integrated.shape"
   ]
  },
  {
   "cell_type": "code",
   "execution_count": 3,
   "metadata": {},
   "outputs": [],
   "source": [
    "from importlib import reload\n",
    "import matplotlib.pyplot as plt\n",
    "import nmtf.thresholding; reload(nmtf.thresholding)\n",
    "from nmtf.thresholding import thresholding"
   ]
  },
  {
   "cell_type": "code",
   "execution_count": null,
   "metadata": {},
   "outputs": [],
   "source": [
    "#from igraph import *\n",
    "#test = Graph.Erdos_Renyi(n=100, m=100)\n",
    "fig, ax = plt.subplots(figsize=(10,5))\n",
    "\n",
    "for i in range(len(p.S_)):\n",
    "    X = p.G_.dot(p.S_[i]).dot(p.G_.T)\n",
    "    res = thresholding(X, 'cl_coeff', min_v=0.01, max_v=0.09, make_plot=True,\n",
    "                      ax=ax, label='Matrix '+str(i+1))\n",
    "res = thresholding(integrated, 'cl_coeff', min_v=0.01, max_v=0.09, make_plot=True,\n",
    "                  ax=ax, label='Integrated')\n",
    "plt.legend()\n",
    "plt.show()"
   ]
  },
  {
   "cell_type": "code",
   "execution_count": 4,
   "metadata": {},
   "outputs": [
    {
     "ename": "TypeError",
     "evalue": "__init__() takes 1 positional argument but 2 were given",
     "output_type": "error",
     "traceback": [
      "\u001b[0;31m---------------------------------------------------------------------------\u001b[0m",
      "\u001b[0;31mTypeError\u001b[0m                                 Traceback (most recent call last)",
      "\u001b[0;32m<ipython-input-4-a06609d019ef>\u001b[0m in \u001b[0;36m<module>\u001b[0;34m()\u001b[0m\n\u001b[1;32m      5\u001b[0m \u001b[0mintegrated\u001b[0m \u001b[0;34m=\u001b[0m \u001b[0mp\u001b[0m\u001b[0;34m.\u001b[0m\u001b[0mG_\u001b[0m\u001b[0;34m.\u001b[0m\u001b[0mdot\u001b[0m\u001b[0;34m(\u001b[0m\u001b[0mp\u001b[0m\u001b[0;34m.\u001b[0m\u001b[0mG_\u001b[0m\u001b[0;34m.\u001b[0m\u001b[0mT\u001b[0m\u001b[0;34m)\u001b[0m\u001b[0;34m\u001b[0m\u001b[0m\n\u001b[1;32m      6\u001b[0m res = thresholding(integrated, 'cl_coeff', min_v=0.01, max_v=0.09, make_plot=True,\n\u001b[0;32m----> 7\u001b[0;31m                       ax=ax, label='no S')\n\u001b[0m\u001b[1;32m      8\u001b[0m \u001b[0mintegrated\u001b[0m \u001b[0;34m=\u001b[0m \u001b[0mp\u001b[0m\u001b[0;34m.\u001b[0m\u001b[0mG_\u001b[0m\u001b[0;34m.\u001b[0m\u001b[0mdot\u001b[0m\u001b[0;34m(\u001b[0m\u001b[0mnp\u001b[0m\u001b[0;34m.\u001b[0m\u001b[0mmean\u001b[0m\u001b[0;34m(\u001b[0m\u001b[0mp\u001b[0m\u001b[0;34m.\u001b[0m\u001b[0mS_\u001b[0m\u001b[0;34m,\u001b[0m \u001b[0maxis\u001b[0m\u001b[0;34m=\u001b[0m\u001b[0;36m0\u001b[0m\u001b[0;34m)\u001b[0m\u001b[0;34m)\u001b[0m\u001b[0;34m.\u001b[0m\u001b[0mdot\u001b[0m\u001b[0;34m(\u001b[0m\u001b[0mp\u001b[0m\u001b[0;34m.\u001b[0m\u001b[0mG_\u001b[0m\u001b[0;34m.\u001b[0m\u001b[0mT\u001b[0m\u001b[0;34m)\u001b[0m\u001b[0;34m\u001b[0m\u001b[0m\n\u001b[1;32m      9\u001b[0m res = thresholding(integrated, 'cl_coeff', min_v=0.01, max_v=0.09, make_plot=True,\n",
      "\u001b[0;32m~/Desktop/git_repos/NMF/nmtf/thresholding.py\u001b[0m in \u001b[0;36mthresholding\u001b[0;34m(X, mode, min_v, max_v, make_plot, ax, label)\u001b[0m\n\u001b[1;32m     73\u001b[0m \u001b[0;34m\u001b[0m\u001b[0m\n\u001b[1;32m     74\u001b[0m     \u001b[0;32mif\u001b[0m \u001b[0mmode\u001b[0m\u001b[0;34m==\u001b[0m\u001b[0;34m'cl_coeff'\u001b[0m\u001b[0;34m:\u001b[0m\u001b[0;34m\u001b[0m\u001b[0m\n\u001b[0;32m---> 75\u001b[0;31m         \u001b[0;32mwith\u001b[0m \u001b[0mwarnings\u001b[0m\u001b[0;34m.\u001b[0m\u001b[0mcatch_warnings\u001b[0m\u001b[0;34m(\u001b[0m\u001b[0mRuntimeWarning\u001b[0m\u001b[0;34m)\u001b[0m\u001b[0;34m:\u001b[0m\u001b[0;34m\u001b[0m\u001b[0m\n\u001b[0m\u001b[1;32m     76\u001b[0m             \u001b[0mwarnings\u001b[0m\u001b[0;34m.\u001b[0m\u001b[0msimplefilter\u001b[0m\u001b[0;34m(\u001b[0m\u001b[0;34m\"ignore\"\u001b[0m\u001b[0;34m)\u001b[0m\u001b[0;34m\u001b[0m\u001b[0m\n\u001b[1;32m     77\u001b[0m             \u001b[0;32mif\u001b[0m \u001b[0mnp\u001b[0m\u001b[0;34m.\u001b[0m\u001b[0mmax\u001b[0m\u001b[0;34m(\u001b[0m\u001b[0mX\u001b[0m\u001b[0;34m)\u001b[0m\u001b[0;34m>\u001b[0m\u001b[0;36m1\u001b[0m\u001b[0;34m:\u001b[0m\u001b[0;34m\u001b[0m\u001b[0m\n",
      "\u001b[0;31mTypeError\u001b[0m: __init__() takes 1 positional argument but 2 were given"
     ]
    },
    {
     "data": {
      "image/png": "[encoded data removed]",
      "text/plain": [
       "<Figure size 720x360 with 1 Axes>"
      ]
     },
     "metadata": {},
     "output_type": "display_data"
    }
   ],
   "source": [
    "#from igraph import *\n",
    "#test = Graph.Erdos_Renyi(n=100, m=100)\n",
    "fig, ax = plt.subplots(figsize=(10,5))\n",
    "\n",
    "integrated = p.G_.dot(p.G_.T)\n",
    "res = thresholding(integrated, 'cl_coeff', min_v=0.01, max_v=0.09, make_plot=True,\n",
    "                      ax=ax, label='no S')\n",
    "integrated = p.G_.dot(np.mean(p.S_, axis=0)).dot(p.G_.T)\n",
    "res = thresholding(integrated, 'cl_coeff', min_v=0.01, max_v=0.09, make_plot=True,\n",
    "                  ax=ax, label='mean')\n",
    "plt.legend()\n",
    "plt.show()"
   ]
  },
  {
   "cell_type": "code",
   "execution_count": null,
   "metadata": {},
   "outputs": [],
   "source": [
    "methods = ['AdaptiveLassoHER2', 'aracneaHER2', 'aracnemHER2', 'c3netHER2', 'clrHER2', 'genenetHER2' ,'Genie3HER2',\n",
    "           'LassoHER2', 'mrnetbHER2', 'mrnetHER2', 'wgcnaHER2']\n",
    "for i in range(len(p.S_)):\n",
    "    print(methods[i])\n",
    "    print(\"----------------------------------------\")\n",
    "    plt.imshow(p.S_[i])\n",
    "    plt.colorbar()\n",
    "    plt.show()"
   ]
  },
  {
   "cell_type": "code",
   "execution_count": null,
   "metadata": {},
   "outputs": [],
   "source": [
    "X_thr = np.array([[0,1,0,0,1], [1,0,1,0,0], [0,1,0,0,1], [0,0,0,0,1], [1,0,1,1,0]])\n",
    "X_thr"
   ]
  },
  {
   "cell_type": "code",
   "execution_count": null,
   "metadata": {},
   "outputs": [],
   "source": [
    "np.fill_diagonal(X_thr, 0)\n",
    "degrees = np.sum(X_thr, axis=1)\n",
    "print(degrees)\n",
    "D = np.zeros(X_thr.shape[0])\n",
    "for node in range(X_thr.shape[0]):\n",
    "    neighbors = np.where(X_thr[node,:]!=0)[0]\n",
    "    subset = X_thr[neighbors, :]\n",
    "    subset = subset[:, neighbors]\n",
    "    print(subset)\n",
    "    D[node] = np.sum(subset)/2\n",
    "print(D)\n",
    "C_v = 0\n",
    "for i, d in enumerate(degrees):\n",
    "    if d <= 1:\n",
    "        continue\n",
    "    C_v += 2*D[i]/degrees[i]*(degrees[i] -1)\n",
    "degree_greter = degrees.copy()\n",
    "degree_greter[np.where(degree_greter<=1)] = 0\n",
    "C_v /= np.sum(degree_greter!=0)\n",
    "print(N)\n",
    "N = np.sum(degrees!=0)\n",
    "k_bar = np.sum(degrees)/N\n",
    "print(k_bar)\n",
    "k_d = np.sum(degrees**2)/N\n",
    "print(k_d)\n",
    "C_r_v = (k_d - k_bar)**2/(k_bar**3 *N)"
   ]
  },
  {
   "cell_type": "code",
   "execution_count": null,
   "metadata": {},
   "outputs": [],
   "source": [
    "C_v"
   ]
  },
  {
   "cell_type": "code",
   "execution_count": null,
   "metadata": {},
   "outputs": [],
   "source": [
    "C_r_v"
   ]
  },
  {
   "cell_type": "code",
   "execution_count": null,
   "metadata": {},
   "outputs": [],
   "source": [
    "import matplotlib.pyplot as plt"
   ]
  },
  {
   "cell_type": "code",
   "execution_count": null,
   "metadata": {},
   "outputs": [],
   "source": [
    "np.var??"
   ]
  },
  {
   "cell_type": "code",
   "execution_count": null,
   "metadata": {},
   "outputs": [],
   "source": [
    "X = np.random.rand(5,5)"
   ]
  },
  {
   "cell_type": "code",
   "execution_count": null,
   "metadata": {},
   "outputs": [],
   "source": [
    "np.diag(X)"
   ]
  },
  {
   "cell_type": "code",
   "execution_count": null,
   "metadata": {},
   "outputs": [],
   "source": [
    "X"
   ]
  },
  {
   "cell_type": "code",
   "execution_count": null,
   "metadata": {},
   "outputs": [],
   "source": [
    "X - np.diag(np.diag(X))"
   ]
  },
  {
   "cell_type": "code",
   "execution_count": 6,
   "metadata": {},
   "outputs": [
    {
     "data": {
      "text/plain": [
       "0.249999749499249"
      ]
     },
     "execution_count": 6,
     "metadata": {},
     "output_type": "execute_result"
    }
   ],
   "source": [
    "(1000/2 - 1)/(1000-1) - ((1000/2 - 1)/(1000-1))**2"
   ]
  },
  {
   "cell_type": "code",
   "execution_count": null,
   "metadata": {},
   "outputs": [],
   "source": []
  }
 ],
 "metadata": {
  "kernelspec": {
   "display_name": "Python 3",
   "language": "python",
   "name": "python3"
  },
  "language_info": {
   "codemirror_mode": {
    "name": "ipython",
    "version": 3
   },
   "file_extension": ".py",
   "mimetype": "text/x-python",
   "name": "python",
   "nbconvert_exporter": "python",
   "pygments_lexer": "ipython3",
   "version": "3.6.6"
  }
 },
 "nbformat": 4,
 "nbformat_minor": 2
}
