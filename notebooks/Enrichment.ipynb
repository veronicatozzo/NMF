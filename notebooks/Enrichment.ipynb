{
 "cells": [
  {
   "cell_type": "code",
   "execution_count": 44,
   "metadata": {},
   "outputs": [],
   "source": [
    "import pandas as pd\n",
    "import pickle as pkl\n",
    "import numpy as np\n",
    "\n",
    "from nmtf.utils import get_clusters"
   ]
  },
  {
   "cell_type": "code",
   "execution_count": 48,
   "metadata": {},
   "outputs": [],
   "source": [
    "net = pd.read_table(\"/Users/veronica/Dropbox (DIBRIS)/project_ucl/BCStages-SubtypesNetworks/HER2Networks/aracneaHER2.txt\",\n",
    "                    sep=' ')\n",
    "genes = net.iloc[:, 0].tolist() + net.iloc[:, 1].tolist()\n",
    "genes = np.array(sorted(list(set(genes))))"
   ]
  },
  {
   "cell_type": "code",
   "execution_count": 35,
   "metadata": {},
   "outputs": [
    {
     "name": "stderr",
     "output_type": "stream",
     "text": [
      "/Users/veronica/miniconda3/envs/py36/lib/python3.6/site-packages/IPython/core/interactiveshell.py:2785: DtypeWarning: Columns (15) have mixed types. Specify dtype option on import or set low_memory=False.\n",
      "  interactivity=interactivity, compiler=compiler, result=result)\n"
     ]
    }
   ],
   "source": [
    "go_annotations = pd.read_table(\"/Users/veronica/Downloads/goa_human.gaf\", sep='\\t', skiprows=30, header=None)\n",
    "go_annotations = go_annotations.iloc[:, [2,4]]"
   ]
  },
  {
   "cell_type": "code",
   "execution_count": 39,
   "metadata": {},
   "outputs": [
    {
     "name": "stdout",
     "output_type": "stream",
     "text": [
      "SSNMTF(G_init=None, adjacencies=None, compute_ktt=False, epsilon=1e-10,\n",
      "    gamma=0, init='svd', k=14, max_iter=500,\n",
      "    random_state=<mtrand.RandomState object at 0x11fc6d480>, rtol=1e-08,\n",
      "    tol=0.01, verbose=1)\n"
     ]
    }
   ],
   "source": [
    "with open(\"/Users/veronica/Dropbox (DIBRIS)/project_ucl/results/HER2Networks.pkl\", 'rb') as f:\n",
    "    u = pkl._Unpickler(f)\n",
    "    u.encoding = 'latin1'\n",
    "    p = u.load()\n",
    "    print(p)"
   ]
  },
  {
   "cell_type": "code",
   "execution_count": 59,
   "metadata": {},
   "outputs": [],
   "source": [
    "clusters = get_clusters(p.G_)\n",
    "list_clusters = []\n",
    "for c in np.unique(clusters):\n",
    "    indices_c = np.argwhere(clusters==c)\n",
    "    genes_c = genes[indices_c]\n",
    "    list_clusters.append(genes_c)"
   ]
  },
  {
   "cell_type": "code",
   "execution_count": 65,
   "metadata": {},
   "outputs": [
    {
     "ename": "KeyError",
     "evalue": "\"['AADAC' 'ABCA6' 'ABCA8' 'ABCA9' 'ABCB1' 'ABCD2' 'ABI3BP' 'ACACB' 'ACADL'\\n 'ACSL1' 'ACTG2' 'ACTL8' 'ACVR1C' 'ADAM8' 'ADAMDEC1' 'ADAMTS1' 'ADAMTS5'\\n 'ADH1A' 'ADH1B' 'ADH1C' 'ADH4' 'ADIPOQ' 'ADM' 'ADORA2A' 'ADRB2' 'AGTR1'\\n 'AIM1L' 'AK5' 'AKAP12' 'AKR1C1' 'AKR1C3' 'ALDH18A1' 'ALDH1A1' 'ALDH1A3'\\n 'ALDH1L1' 'ALDH2' 'AMIGO2' 'AMPD1' 'ANGPTL1' 'ANGPTL4' 'ANGPTL5'\\n 'ANGPTL7' 'ANKRD15' 'ANKRD22' 'ANKRD29' 'ANKRD35' 'ANLN' 'ANXA1' 'ANXA3'\\n 'ANXA8L2' 'AOC3' 'AP1M2' 'APCDD1' 'APOBEC3B' 'APOBEC3D' 'APOD' 'APOO'\\n 'AQP7' 'AQP7P2' 'AREG' 'ARHGAP11A' 'ARHGAP20' 'ARL4A' 'ARNT2' 'ASF1B'\\n 'ASPA' 'ASPHD2' 'ASPM' 'ATAD2' 'ATAD4' 'ATAD5' 'ATF3' 'ATOH8' 'ATP1A2'\\n 'ATP2C2' 'ATP8B4' 'AURKA' 'AURKB' 'B3GALNT2' 'BBOX1' 'BCAS4' 'BCL6' 'BGN'\\n 'BHMT2' 'BIRC5' 'BLM' 'BMX' 'BNC1' 'BRCA2' 'BRI3BP' 'BRIP1' 'BTNL9'\\n 'BUB1' 'BUB1B' 'C10orf10' 'C10orf65' 'C10orf90' 'C11orf82' 'C12orf28'\\n 'C12orf48' 'C13orf3' 'C14orf139' 'C15orf42' 'C16orf59' 'C16orf75'\\n 'C18orf24' 'C18orf34' 'C18orf56' 'C19orf21' 'C1QTNF6' 'C1QTNF7' 'C1QTNF9'\\n 'C1orf115' 'C1orf135' 'C1orf211' 'C1orf213' 'C20orf103' 'C20orf39'\\n 'C20orf82' 'C20orf94' 'C21orf34' 'C3orf55' 'C4BPA' 'C4orf31' 'C5orf13'\\n 'C5orf23' 'C5orf4' 'C6' 'C6orf129' 'C6orf142' 'C6orf150' 'C6orf173'\\n 'C6orf189' 'C7' 'C8orf51' 'C8orf79' 'C9orf125' 'C9orf140' 'C9orf61' 'CA3'\\n 'CA4' 'CACHD1' 'CACNG1' 'CALU' 'CAMP' 'CAPN11' 'CAPN6' 'CAPS' 'CAPSL'\\n 'CASC5' 'CASQ2' 'CAT' 'CAV1' 'CAV2' 'CBLN2' 'CBS' 'CCDC19' 'CCDC78'\\n 'CCDC8' 'CCDC85A' 'CCL11' 'CCL13' 'CCL28' 'CCL7' 'CCNA2' 'CCNB1' 'CCNB2'\\n 'CCNE1' 'CCNE2' 'CCNF' 'CD36' 'CD3EAP' 'CDC2' 'CDC20' 'CDC25A' 'CDC25C'\\n 'CDC45L' 'CDC6' 'CDC7' 'CDCA2' 'CDCA3' 'CDCA5' 'CDCA8' 'CDH11' 'CDH2'\\n 'CDKN2A' 'CDKN3' 'CDO1' 'CDT1' 'CEACAM5' 'CEACAM6' 'CELSR3' 'CENPA'\\n 'CENPE' 'CENPF' 'CENPI' 'CENPK' 'CENPL' 'CENPM' 'CENPO' 'CEP55' 'CES1'\\n 'CFD' 'CFHR3' 'CFI' 'CFL2' 'CG018' 'CHAF1B' 'CHEK1' 'CHL1' 'CHRDL1'\\n 'CHRNA6' 'CHST11' 'CHST6' 'CHST9' 'CHTF18' 'CIDEA' 'CIDEC' 'CIT' 'CITED1'\\n 'CKAP2' 'CKAP2L' 'CKAP4' 'CKMT2' 'CKS2' 'CLCA4' 'CLCN2' 'CLCN5' 'CLDN14'\\n 'CLDN19' 'CLDN8' 'CLDND2' 'CLEC3B' 'CLEC4G' 'CLEC5A' 'CLIP4' 'CLSPN'\\n 'CLU' 'CNN1' 'CNTNAP2' 'CNTNAP3' 'COL10A1' 'COL11A1' 'COL12A1' 'COL17A1'\\n 'COL1A1' 'COL4A6' 'COL5A1' 'COL5A2' 'COL6A6' 'COMP' 'CORIN' 'COX6C'\\n 'CPA1' 'CPAMD8' 'CPB1' 'CRHBP' 'CRIM1' 'CRYAB' 'CSN1S1' 'CST1' 'CST4'\\n 'CTHRC1' 'CTSG' 'CTTNBP2' 'CX3CL1' 'CXCL1' 'CXCL11' 'CXCL12' 'CXCL13'\\n 'CXCL2' 'CXCL3' 'CYP26B1' 'CYP39A1' 'CYP3A5' 'CYP4B1' 'CYP4X1' 'CYP4Z1'\\n 'D4S234E' 'DACT2' 'DARC' 'DBC1' 'DBF4' 'DCBLD1' 'DCDC2' 'DCN' 'DDR2'\\n 'DDX39' 'DEFB1' 'DENND2A' 'DEPDC1' 'DEPDC1B' 'DEPDC7' 'DGAT2' 'DIAPH3'\\n 'DKFZP586H2123' 'DKFZp762E1312' 'DLG7' 'DLX4' 'DMD' 'DMGDH' 'DMN' 'DMRT2'\\n 'DNA2L' 'DNAJB4' 'DNASE1L3' 'DNMT3B' 'DONSON' 'DOPEY2' 'DPT' 'DQX1'\\n 'DSC1' 'DSCR6' 'DSN1' 'DTL' 'DUSP1' 'DUSP6' 'E2F1' 'E2F7' 'E2F8' 'EBF1'\\n 'ECM2' 'ECT2' 'EDG1' 'EDN2' 'EDN3' 'EDNRB' 'EEF1A2' 'EFCBP1' 'EFEMP1'\\n 'EFHA2' 'EGFR' 'EGR1' 'EGR2' 'EGR3' 'EMCN' 'ENPP2' 'ENTHD1' 'ENTPD7'\\n 'EPB42' 'EPN3' 'EPYC' 'ERCC6L' 'ESCO2' 'EXO1' 'EZH2' 'F10' 'F12' 'F3'\\n 'FABP4' 'FABP7' 'FAM107A' 'FAM111B' 'FAM19A4' 'FAM3B' 'FAM54A' 'FAM64A'\\n 'FAM70A' 'FAM77C' 'FAM83D' 'FAM83H' 'FAM84A' 'FAM89A' 'FANCA' 'FANCI'\\n 'FAP' 'FAT2' 'FBXL16' 'FBXL6' 'FEN1' 'FGF10' 'FGF2' 'FGFBP1' 'FGFBP2'\\n 'FHL1' 'FHL5' 'FIGF' 'FLJ20581' 'FLJ22655' 'FLJ39660' 'FLJ40504'\\n 'FLJ90650' 'FLRT2' 'FLVCR1' 'FMO2' 'FMO5' 'FN1' 'FOS' 'FOSB' 'FOXD4L2'\\n 'FOXM1' 'FREM1' 'FSD1L' 'FXYD1' 'G0S2' 'GABRE' 'GAS2' 'GAS2L3' 'GDF10'\\n 'GGTA1' 'GHR' 'GINS1' 'GINS2' 'GINS4' 'GIPC2' 'GJB2' 'GLDN' 'GLRA3'\\n 'GLYAT' 'GNAI1' 'GNG11' 'GPAM' 'GPC3' 'GPD1' 'GPD2' 'GPER' 'GPR109B'\\n 'GPR146' 'GPR158' 'GPR19' 'GPR34' 'GPR84' 'GPR87' 'GPRASP1' 'GPRASP2'\\n 'GPRC5A' 'GPRIN1' 'GPSM2' 'GPX3' 'GRIK1' 'GRM8' 'GSG2' 'GSN' 'GSTA2'\\n 'GTSE1' 'GYG2' 'GYPC' 'H2AFX' 'HAGHL' 'HAPLN1' 'HAS3' 'HBA2' 'HBD' 'HDGF'\\n 'HELLS' 'HEPACAM' 'HES6' 'HHATL' 'HIST1H1A' 'HIST1H1B' 'HIST1H1C'\\n 'HIST1H1D' 'HIST1H1E' 'HIST1H2AI' 'HIST1H2AL' 'HIST1H2AM' 'HIST1H2BD'\\n 'HIST1H2BH' 'HIST1H2BN' 'HIST1H3D' 'HIST1H3H' 'HIST1H4B' 'HIST1H4C'\\n 'HIST1H4D' 'HIST1H4H' 'HIST1H4L' 'HIST2H2AA3' 'HMG4L' 'HMGB3' 'HMGCLL1'\\n 'HMMR' 'HN1' 'HOOK1' 'HORMAD1' 'HOTAIR' 'HOXA4' 'HOXA5' 'HOXA9' 'HOXC10'\\n 'HOXC12' 'HOXC13' 'HRASLS3' 'HRASLS5' 'HS3ST3A1' 'HS3ST4' 'HS6ST3'\\n 'HSD11B1' 'HSD17B13' 'HSD17B2' 'HSD17B6' 'HSH2D' 'HSPB2' 'HSPB7' 'HYAL3'\\n 'IBSP' 'ID4' 'IER5L' 'IFI30' 'IGF1' 'IGFBP6' 'IGFL2' 'IGSF10' 'IGSF9'\\n 'IL11RA' 'IL17B' 'IL20RA' 'IL21R' 'IL33' 'IL4I1' 'IL6' 'INA' 'INCENP'\\n 'INHBA' 'INSM1' 'IQGAP3' 'IRS2' 'ISG15' 'ITGA7' 'ITIH5' 'ITM2A' 'ITPKA'\\n 'ITPR1' 'JAKMIP1' 'JAM2' 'KCNB1' 'KCNC2' 'KCNE1' 'KCNE4' 'KCNIP2'\\n 'KCNJ16' 'KCTD12' 'KCTD14' 'KIAA0101' 'KIAA0408' 'KIAA1189' 'KIAA1199'\\n 'KIAA1211' 'KIAA1257' 'KIAA1377' 'KIAA1881' 'KIF11' 'KIF14' 'KIF15'\\n 'KIF18A' 'KIF20A' 'KIF21A' 'KIF23' 'KIF26B' 'KIF2C' 'KIF4A' 'KIF4B'\\n 'KIFC1' 'KIT' 'KL' 'KLB' 'KLF4' 'KLHL13' 'KLHL29' 'KLK11' 'KLK5' 'KLK7'\\n 'KLK8' 'KLRG2' 'KPNA2' 'KREMEN2' 'KRT13' 'KRT14' 'KRT15' 'KRT17' 'KRT18'\\n 'KRT19' 'KRT37' 'KRT5' 'KRT8' 'LAGE3' 'LAMB3' 'LAMC2' 'LAMP3' 'LDB2'\\n 'LEF1' 'LEP' 'LEPR' 'LGALS12' 'LGR6' 'LHFP' 'LHX2' 'LIFR' 'LIMK1' 'LIMS2'\\n 'LIPE' 'LMNB1' 'LMNB2' 'LOC198437' 'LOC221091' 'LOC387911' 'LOC388152'\\n 'LOC388335' 'LOC401127' 'LOC441376' 'LOC55908' 'LOC91461' 'LPL' 'LRFN2'\\n 'LRP1B' 'LRP8' 'LRRC15' 'LRRC2' 'LRRC3B' 'LRRN3' 'LSR' 'LTF' 'LUZP2'\\n 'LYVE1' 'MAB21L1' 'MAD2L1' 'MAMDC2' 'MANEAL' 'MAOA' 'MAOB' 'MAP1LC3C'\\n 'MARCH4' 'MARCKSL1' 'MATN2' 'MATN3' 'MBOAT2' 'MCM10' 'MCM2' 'MCM4' 'MCM6'\\n 'MCOLN2' 'MELK' 'MEOX1' 'MEOX2' 'MEST' 'METRN' 'MEX3A' 'MFAP2' 'MFAP4'\\n 'MGC102966' 'MGC10981' 'MGC45438' 'MGLL' 'MIA' 'MIF' 'MKI67' 'MLF1IP'\\n 'MLLT11' 'MMD' 'MME' 'MMP1' 'MMP10' 'MMP11' 'MMP12' 'MMP13' 'MMP3' 'MMP9'\\n 'MMRN1' 'MND1' 'MNX1' 'MOSC1' 'MRAP' 'MT1M' 'MTHFD2' 'MUC15' 'MUCL1'\\n 'MYBL1' 'MYBL2' 'MYEOV' 'MYH1' 'MYLK' 'MYOC' 'MYOM1' 'MYOM2' 'MYOT'\\n 'MYRIP' 'NAP1L2' 'NAV3' 'NCAPD2' 'NCAPH' 'NDC80' 'NDN' 'NDRG2' 'NEIL3'\\n 'NEK2' 'NELL2' 'NETO2' 'NEURL' 'NFE2L3' 'NFIB' 'NFKBIZ' 'NKAPL' 'NKX3-2'\\n 'NLGN1' 'NMNAT2' 'NMU' 'NMUR1' 'NNAT' 'NOXO1' 'NPR1' 'NPTX2' 'NPW'\\n 'NPY1R' 'NPY2R' 'NPY5R' 'NR2F1' 'NRG2' 'NTF5' 'NTN4' 'NTRK2' 'NUAK2'\\n 'NUDT9P1' 'NUF2' 'NUP210' 'NUSAP1' 'OAS3' 'OASL' 'ODZ2' 'OGN' 'OIP5'\\n 'OLFM4' 'OLR1' 'ORC1L' 'ORC6L' 'OSM' 'OSR1' 'OTX1' 'OXTR' 'P2RY12'\\n 'P2RY5' 'P4HA3' 'PACSIN1' 'PAFAH1B3' 'PAK3' 'PAK7' 'PALMD' 'PAMCI'\\n 'PAQR4' 'PARP1' 'PAX9' 'PBK' 'PCDH17' 'PCDH18' 'PCDH9' 'PCK1' 'PCOLCE2'\\n 'PDE2A' 'PDE8B' 'PDGFD' 'PDK4' 'PDLIM3' 'PDZD2' 'PDZK1' 'PELI2' 'PENK'\\n 'PFKFB1' 'PHYHIP' 'PI15' 'PI16' 'PID1' 'PIGR' 'PIK3C2G' 'PITX1' 'PKMYT1'\\n 'PLA2G2A' 'PLA2G4A' 'PLAC1' 'PLAC2' 'PLAC9' 'PLAUR' 'PLCXD3' 'PLEKHC1'\\n 'PLEKHH2' 'PLEKHK1' 'PLIN' 'PLK1' 'PLK4' 'PLSCR4' 'POLE2' 'POLG' 'POLQ'\\n 'PON3' 'POP1' 'POSTN' 'PPAP2A' 'PPAP2B' 'PPAPDC1A' 'PPARG' 'PPAT' 'PPEF1'\\n 'PPP1R14A' 'PPP1R14B' 'PPP1R1A' 'PPP2R2B' 'PPP2R2C' 'PRAME' 'PRC1' 'PRLR'\\n 'PROS1' 'PRRG4' 'PSRC1' 'PTCHD1' 'PTGIS' 'PTGS2' 'PTHR1' 'PTN' 'PTPRZ1'\\n 'PTTG1' 'PTTG2' 'PTTG3' 'PTX3' 'PVRL4' 'PYCR1' 'RAB3C' 'RACGAP1' 'RAD51'\\n 'RAD51AP1' 'RAD54L' 'RAG1AP1' 'RAMP1' 'RAPGEF3' 'RASD1' 'RASL10A'\\n 'RASL11B' 'RBM35A' 'RBMS3' 'RBP4' 'RBP7' 'RCAN1' 'RDH5' 'RDM1' 'RECQL4'\\n 'RFXDC1' 'RGN' 'RGS2' 'RGS9BP' 'RHOU' 'RHOXF1' 'RIBC2' 'RIC3' 'RNASE4'\\n 'RNASEH2A' 'RNF150' 'RNF186' 'ROPN1' 'ROPN1B' 'RP13-102H20.1' 'RPL23AP13'\\n 'RRM2' 'RSAD2' 'RSPO3' 'RUNX1T1' 'RYR3' 'S100A14' 'S100B' 'S100P' 'SAA1'\\n 'SAA2' 'SAA3P' 'SAA4' 'SALL4' 'SAMD5' 'SCARA5' 'SCGB1D2' 'SCGB2A2' 'SCGN'\\n 'SCN4B' 'SCRG1' 'SCT' 'SDC1' 'SDPR' 'SEMA3C' 'SEMA3G' 'SEPP1' 'SFRP1'\\n 'SGCE' 'SGCG' 'SGK' 'SGK2' 'SGOL1' 'SGOL2' 'SH3D19' 'SHCBP1' 'SIM2'\\n 'SLC16A12' 'SLC16A3' 'SLC16A6' 'SLC16A7' 'SLC19A3' 'SLC22A3' 'SLC25A27'\\n 'SLC27A6' 'SLC2A4' 'SLC6A14' 'SLC7A10' 'SLPI' 'SMC4' 'SMYD1' 'SNCG'\\n 'SNTG2' 'SOCS2' 'SOD3' 'SORBS1' 'SOSTDC1' 'SOX11' 'SPAG5' 'SPATA13'\\n 'SPC25' 'SPINK5' 'SPP1' 'SPRY2' 'SQLE' 'SRPX' 'SSTR1' 'STAB2' 'STAC2'\\n 'STARD9' 'STIL' 'STMN1' 'STRA6' 'STX6' 'SULF1' 'SUSD4' 'SVEP1' 'SYCE1'\\n 'SYT13' 'SYT8' 'TAC1' 'TACC3' 'TACSTD1' 'TCEAL7' 'TCF15' 'TCN1' 'TDO2'\\n 'TEAD4' 'TESC' 'TFAP2A' 'TFPI2' 'TGFBR2' 'TGFBR3' 'THRSP' 'TIGD3'\\n 'TIMELESS' 'TIMP4' 'TK1' 'TM4SF18' 'TMEM100' 'TMEM118' 'TMEM16C'\\n 'TMEM178' 'TMEM22' 'TMEM37' 'TMEM47' 'TMEM71' 'TMEM97' 'TMPRSS4' 'TMTC1'\\n 'TNFRSF9' 'TNFSF4' 'TNMD' 'TNNT1' 'TNNT3' 'TOP2A' 'TP63' 'TPD52' 'TPO'\\n 'TPX2' 'TREM1' 'TRIM59' 'TRIP13' 'TRPA1' 'TSHZ2' 'TSLP' 'TSPAN7' 'TSPAN8'\\n 'TTK' 'TXNIP' 'TYMS' 'UBE2C' 'UBE2S' 'UBE2T' 'UGCGL1' 'UHRF1' 'UNC5B'\\n 'UTP20' 'VCAN' 'VIT' 'WBSCR28' 'WDHD1' 'WDR34' 'WDR51A' 'WIF1' 'WISP1'\\n 'WISP3' 'ZBED2' 'ZBTB16' 'ZFP36' 'ZNF695' 'ZWINT' 'ZYG11A' 'hCG_1990170'] not in index\"",
     "output_type": "error",
     "traceback": [
      "\u001b[0;31m---------------------------------------------------------------------------\u001b[0m",
      "\u001b[0;31mKeyError\u001b[0m                                  Traceback (most recent call last)",
      "\u001b[0;32m<ipython-input-65-aca5df00323a>\u001b[0m in \u001b[0;36m<module>\u001b[0;34m()\u001b[0m\n\u001b[1;32m      5\u001b[0m         \u001b[0mN\u001b[0m \u001b[0;34m=\u001b[0m \u001b[0mlen\u001b[0m\u001b[0;34m(\u001b[0m\u001b[0mc\u001b[0m\u001b[0;34m)\u001b[0m\u001b[0;34m\u001b[0m\u001b[0m\n\u001b[1;32m      6\u001b[0m         \u001b[0mgenes_annotated\u001b[0m \u001b[0;34m=\u001b[0m \u001b[0mgo_annotations\u001b[0m\u001b[0;34m[\u001b[0m\u001b[0mgo_annotations\u001b[0m\u001b[0;34m[\u001b[0m\u001b[0;36m4\u001b[0m\u001b[0;34m]\u001b[0m\u001b[0;34m==\u001b[0m\u001b[0ma\u001b[0m\u001b[0;34m]\u001b[0m\u001b[0;34m\u001b[0m\u001b[0m\n\u001b[0;32m----> 7\u001b[0;31m         \u001b[0mM\u001b[0m \u001b[0;34m=\u001b[0m \u001b[0mlen\u001b[0m\u001b[0;34m(\u001b[0m\u001b[0mlist\u001b[0m\u001b[0;34m(\u001b[0m\u001b[0mgo_annotations\u001b[0m\u001b[0;34m[\u001b[0m\u001b[0mgenes\u001b[0m\u001b[0;34m]\u001b[0m\u001b[0;34m)\u001b[0m\u001b[0;34m)\u001b[0m\u001b[0;34m\u001b[0m\u001b[0m\n\u001b[0m\u001b[1;32m      8\u001b[0m         \u001b[0mX\u001b[0m \u001b[0;34m=\u001b[0m \u001b[0mlen\u001b[0m\u001b[0;34m(\u001b[0m\u001b[0mlist\u001b[0m\u001b[0;34m(\u001b[0m\u001b[0mgenes_annotated\u001b[0m\u001b[0;34m[\u001b[0m\u001b[0mc\u001b[0m\u001b[0;34m]\u001b[0m\u001b[0;34m)\u001b[0m\u001b[0;34m)\u001b[0m\u001b[0;34m\u001b[0m\u001b[0m\n\u001b[1;32m      9\u001b[0m         \u001b[0mK\u001b[0m \u001b[0;34m=\u001b[0m \u001b[0mlen\u001b[0m\u001b[0;34m(\u001b[0m\u001b[0mlist\u001b[0m\u001b[0;34m(\u001b[0m\u001b[0mgenes_annotated\u001b[0m\u001b[0;34m[\u001b[0m\u001b[0mgenes\u001b[0m\u001b[0;34m]\u001b[0m\u001b[0;34m)\u001b[0m\u001b[0;34m)\u001b[0m\u001b[0;34m\u001b[0m\u001b[0m\n",
      "\u001b[0;32m~/miniconda3/envs/py36/lib/python3.6/site-packages/pandas/core/frame.py\u001b[0m in \u001b[0;36m__getitem__\u001b[0;34m(self, key)\u001b[0m\n\u001b[1;32m   2680\u001b[0m         \u001b[0;32mif\u001b[0m \u001b[0misinstance\u001b[0m\u001b[0;34m(\u001b[0m\u001b[0mkey\u001b[0m\u001b[0;34m,\u001b[0m \u001b[0;34m(\u001b[0m\u001b[0mSeries\u001b[0m\u001b[0;34m,\u001b[0m \u001b[0mnp\u001b[0m\u001b[0;34m.\u001b[0m\u001b[0mndarray\u001b[0m\u001b[0;34m,\u001b[0m \u001b[0mIndex\u001b[0m\u001b[0;34m,\u001b[0m \u001b[0mlist\u001b[0m\u001b[0;34m)\u001b[0m\u001b[0;34m)\u001b[0m\u001b[0;34m:\u001b[0m\u001b[0;34m\u001b[0m\u001b[0m\n\u001b[1;32m   2681\u001b[0m             \u001b[0;31m# either boolean or fancy integer index\u001b[0m\u001b[0;34m\u001b[0m\u001b[0;34m\u001b[0m\u001b[0m\n\u001b[0;32m-> 2682\u001b[0;31m             \u001b[0;32mreturn\u001b[0m \u001b[0mself\u001b[0m\u001b[0;34m.\u001b[0m\u001b[0m_getitem_array\u001b[0m\u001b[0;34m(\u001b[0m\u001b[0mkey\u001b[0m\u001b[0;34m)\u001b[0m\u001b[0;34m\u001b[0m\u001b[0m\n\u001b[0m\u001b[1;32m   2683\u001b[0m         \u001b[0;32melif\u001b[0m \u001b[0misinstance\u001b[0m\u001b[0;34m(\u001b[0m\u001b[0mkey\u001b[0m\u001b[0;34m,\u001b[0m \u001b[0mDataFrame\u001b[0m\u001b[0;34m)\u001b[0m\u001b[0;34m:\u001b[0m\u001b[0;34m\u001b[0m\u001b[0m\n\u001b[1;32m   2684\u001b[0m             \u001b[0;32mreturn\u001b[0m \u001b[0mself\u001b[0m\u001b[0;34m.\u001b[0m\u001b[0m_getitem_frame\u001b[0m\u001b[0;34m(\u001b[0m\u001b[0mkey\u001b[0m\u001b[0;34m)\u001b[0m\u001b[0;34m\u001b[0m\u001b[0m\n",
      "\u001b[0;32m~/miniconda3/envs/py36/lib/python3.6/site-packages/pandas/core/frame.py\u001b[0m in \u001b[0;36m_getitem_array\u001b[0;34m(self, key)\u001b[0m\n\u001b[1;32m   2724\u001b[0m             \u001b[0;32mreturn\u001b[0m \u001b[0mself\u001b[0m\u001b[0;34m.\u001b[0m\u001b[0m_take\u001b[0m\u001b[0;34m(\u001b[0m\u001b[0mindexer\u001b[0m\u001b[0;34m,\u001b[0m \u001b[0maxis\u001b[0m\u001b[0;34m=\u001b[0m\u001b[0;36m0\u001b[0m\u001b[0;34m)\u001b[0m\u001b[0;34m\u001b[0m\u001b[0m\n\u001b[1;32m   2725\u001b[0m         \u001b[0;32melse\u001b[0m\u001b[0;34m:\u001b[0m\u001b[0;34m\u001b[0m\u001b[0m\n\u001b[0;32m-> 2726\u001b[0;31m             \u001b[0mindexer\u001b[0m \u001b[0;34m=\u001b[0m \u001b[0mself\u001b[0m\u001b[0;34m.\u001b[0m\u001b[0mloc\u001b[0m\u001b[0;34m.\u001b[0m\u001b[0m_convert_to_indexer\u001b[0m\u001b[0;34m(\u001b[0m\u001b[0mkey\u001b[0m\u001b[0;34m,\u001b[0m \u001b[0maxis\u001b[0m\u001b[0;34m=\u001b[0m\u001b[0;36m1\u001b[0m\u001b[0;34m)\u001b[0m\u001b[0;34m\u001b[0m\u001b[0m\n\u001b[0m\u001b[1;32m   2727\u001b[0m             \u001b[0;32mreturn\u001b[0m \u001b[0mself\u001b[0m\u001b[0;34m.\u001b[0m\u001b[0m_take\u001b[0m\u001b[0;34m(\u001b[0m\u001b[0mindexer\u001b[0m\u001b[0;34m,\u001b[0m \u001b[0maxis\u001b[0m\u001b[0;34m=\u001b[0m\u001b[0;36m1\u001b[0m\u001b[0;34m)\u001b[0m\u001b[0;34m\u001b[0m\u001b[0m\n\u001b[1;32m   2728\u001b[0m \u001b[0;34m\u001b[0m\u001b[0m\n",
      "\u001b[0;32m~/miniconda3/envs/py36/lib/python3.6/site-packages/pandas/core/indexing.py\u001b[0m in \u001b[0;36m_convert_to_indexer\u001b[0;34m(self, obj, axis, is_setter)\u001b[0m\n\u001b[1;32m   1325\u001b[0m                 \u001b[0;32mif\u001b[0m \u001b[0mmask\u001b[0m\u001b[0;34m.\u001b[0m\u001b[0many\u001b[0m\u001b[0;34m(\u001b[0m\u001b[0;34m)\u001b[0m\u001b[0;34m:\u001b[0m\u001b[0;34m\u001b[0m\u001b[0m\n\u001b[1;32m   1326\u001b[0m                     raise KeyError('{mask} not in index'\n\u001b[0;32m-> 1327\u001b[0;31m                                    .format(mask=objarr[mask]))\n\u001b[0m\u001b[1;32m   1328\u001b[0m \u001b[0;34m\u001b[0m\u001b[0m\n\u001b[1;32m   1329\u001b[0m                 \u001b[0;32mreturn\u001b[0m \u001b[0mcom\u001b[0m\u001b[0;34m.\u001b[0m\u001b[0m_values_from_object\u001b[0m\u001b[0;34m(\u001b[0m\u001b[0mindexer\u001b[0m\u001b[0;34m)\u001b[0m\u001b[0;34m\u001b[0m\u001b[0m\n",
      "\u001b[0;31mKeyError\u001b[0m: \"['AADAC' 'ABCA6' 'ABCA8' 'ABCA9' 'ABCB1' 'ABCD2' 'ABI3BP' 'ACACB' 'ACADL'\\n 'ACSL1' 'ACTG2' 'ACTL8' 'ACVR1C' 'ADAM8' 'ADAMDEC1' 'ADAMTS1' 'ADAMTS5'\\n 'ADH1A' 'ADH1B' 'ADH1C' 'ADH4' 'ADIPOQ' 'ADM' 'ADORA2A' 'ADRB2' 'AGTR1'\\n 'AIM1L' 'AK5' 'AKAP12' 'AKR1C1' 'AKR1C3' 'ALDH18A1' 'ALDH1A1' 'ALDH1A3'\\n 'ALDH1L1' 'ALDH2' 'AMIGO2' 'AMPD1' 'ANGPTL1' 'ANGPTL4' 'ANGPTL5'\\n 'ANGPTL7' 'ANKRD15' 'ANKRD22' 'ANKRD29' 'ANKRD35' 'ANLN' 'ANXA1' 'ANXA3'\\n 'ANXA8L2' 'AOC3' 'AP1M2' 'APCDD1' 'APOBEC3B' 'APOBEC3D' 'APOD' 'APOO'\\n 'AQP7' 'AQP7P2' 'AREG' 'ARHGAP11A' 'ARHGAP20' 'ARL4A' 'ARNT2' 'ASF1B'\\n 'ASPA' 'ASPHD2' 'ASPM' 'ATAD2' 'ATAD4' 'ATAD5' 'ATF3' 'ATOH8' 'ATP1A2'\\n 'ATP2C2' 'ATP8B4' 'AURKA' 'AURKB' 'B3GALNT2' 'BBOX1' 'BCAS4' 'BCL6' 'BGN'\\n 'BHMT2' 'BIRC5' 'BLM' 'BMX' 'BNC1' 'BRCA2' 'BRI3BP' 'BRIP1' 'BTNL9'\\n 'BUB1' 'BUB1B' 'C10orf10' 'C10orf65' 'C10orf90' 'C11orf82' 'C12orf28'\\n 'C12orf48' 'C13orf3' 'C14orf139' 'C15orf42' 'C16orf59' 'C16orf75'\\n 'C18orf24' 'C18orf34' 'C18orf56' 'C19orf21' 'C1QTNF6' 'C1QTNF7' 'C1QTNF9'\\n 'C1orf115' 'C1orf135' 'C1orf211' 'C1orf213' 'C20orf103' 'C20orf39'\\n 'C20orf82' 'C20orf94' 'C21orf34' 'C3orf55' 'C4BPA' 'C4orf31' 'C5orf13'\\n 'C5orf23' 'C5orf4' 'C6' 'C6orf129' 'C6orf142' 'C6orf150' 'C6orf173'\\n 'C6orf189' 'C7' 'C8orf51' 'C8orf79' 'C9orf125' 'C9orf140' 'C9orf61' 'CA3'\\n 'CA4' 'CACHD1' 'CACNG1' 'CALU' 'CAMP' 'CAPN11' 'CAPN6' 'CAPS' 'CAPSL'\\n 'CASC5' 'CASQ2' 'CAT' 'CAV1' 'CAV2' 'CBLN2' 'CBS' 'CCDC19' 'CCDC78'\\n 'CCDC8' 'CCDC85A' 'CCL11' 'CCL13' 'CCL28' 'CCL7' 'CCNA2' 'CCNB1' 'CCNB2'\\n 'CCNE1' 'CCNE2' 'CCNF' 'CD36' 'CD3EAP' 'CDC2' 'CDC20' 'CDC25A' 'CDC25C'\\n 'CDC45L' 'CDC6' 'CDC7' 'CDCA2' 'CDCA3' 'CDCA5' 'CDCA8' 'CDH11' 'CDH2'\\n 'CDKN2A' 'CDKN3' 'CDO1' 'CDT1' 'CEACAM5' 'CEACAM6' 'CELSR3' 'CENPA'\\n 'CENPE' 'CENPF' 'CENPI' 'CENPK' 'CENPL' 'CENPM' 'CENPO' 'CEP55' 'CES1'\\n 'CFD' 'CFHR3' 'CFI' 'CFL2' 'CG018' 'CHAF1B' 'CHEK1' 'CHL1' 'CHRDL1'\\n 'CHRNA6' 'CHST11' 'CHST6' 'CHST9' 'CHTF18' 'CIDEA' 'CIDEC' 'CIT' 'CITED1'\\n 'CKAP2' 'CKAP2L' 'CKAP4' 'CKMT2' 'CKS2' 'CLCA4' 'CLCN2' 'CLCN5' 'CLDN14'\\n 'CLDN19' 'CLDN8' 'CLDND2' 'CLEC3B' 'CLEC4G' 'CLEC5A' 'CLIP4' 'CLSPN'\\n 'CLU' 'CNN1' 'CNTNAP2' 'CNTNAP3' 'COL10A1' 'COL11A1' 'COL12A1' 'COL17A1'\\n 'COL1A1' 'COL4A6' 'COL5A1' 'COL5A2' 'COL6A6' 'COMP' 'CORIN' 'COX6C'\\n 'CPA1' 'CPAMD8' 'CPB1' 'CRHBP' 'CRIM1' 'CRYAB' 'CSN1S1' 'CST1' 'CST4'\\n 'CTHRC1' 'CTSG' 'CTTNBP2' 'CX3CL1' 'CXCL1' 'CXCL11' 'CXCL12' 'CXCL13'\\n 'CXCL2' 'CXCL3' 'CYP26B1' 'CYP39A1' 'CYP3A5' 'CYP4B1' 'CYP4X1' 'CYP4Z1'\\n 'D4S234E' 'DACT2' 'DARC' 'DBC1' 'DBF4' 'DCBLD1' 'DCDC2' 'DCN' 'DDR2'\\n 'DDX39' 'DEFB1' 'DENND2A' 'DEPDC1' 'DEPDC1B' 'DEPDC7' 'DGAT2' 'DIAPH3'\\n 'DKFZP586H2123' 'DKFZp762E1312' 'DLG7' 'DLX4' 'DMD' 'DMGDH' 'DMN' 'DMRT2'\\n 'DNA2L' 'DNAJB4' 'DNASE1L3' 'DNMT3B' 'DONSON' 'DOPEY2' 'DPT' 'DQX1'\\n 'DSC1' 'DSCR6' 'DSN1' 'DTL' 'DUSP1' 'DUSP6' 'E2F1' 'E2F7' 'E2F8' 'EBF1'\\n 'ECM2' 'ECT2' 'EDG1' 'EDN2' 'EDN3' 'EDNRB' 'EEF1A2' 'EFCBP1' 'EFEMP1'\\n 'EFHA2' 'EGFR' 'EGR1' 'EGR2' 'EGR3' 'EMCN' 'ENPP2' 'ENTHD1' 'ENTPD7'\\n 'EPB42' 'EPN3' 'EPYC' 'ERCC6L' 'ESCO2' 'EXO1' 'EZH2' 'F10' 'F12' 'F3'\\n 'FABP4' 'FABP7' 'FAM107A' 'FAM111B' 'FAM19A4' 'FAM3B' 'FAM54A' 'FAM64A'\\n 'FAM70A' 'FAM77C' 'FAM83D' 'FAM83H' 'FAM84A' 'FAM89A' 'FANCA' 'FANCI'\\n 'FAP' 'FAT2' 'FBXL16' 'FBXL6' 'FEN1' 'FGF10' 'FGF2' 'FGFBP1' 'FGFBP2'\\n 'FHL1' 'FHL5' 'FIGF' 'FLJ20581' 'FLJ22655' 'FLJ39660' 'FLJ40504'\\n 'FLJ90650' 'FLRT2' 'FLVCR1' 'FMO2' 'FMO5' 'FN1' 'FOS' 'FOSB' 'FOXD4L2'\\n 'FOXM1' 'FREM1' 'FSD1L' 'FXYD1' 'G0S2' 'GABRE' 'GAS2' 'GAS2L3' 'GDF10'\\n 'GGTA1' 'GHR' 'GINS1' 'GINS2' 'GINS4' 'GIPC2' 'GJB2' 'GLDN' 'GLRA3'\\n 'GLYAT' 'GNAI1' 'GNG11' 'GPAM' 'GPC3' 'GPD1' 'GPD2' 'GPER' 'GPR109B'\\n 'GPR146' 'GPR158' 'GPR19' 'GPR34' 'GPR84' 'GPR87' 'GPRASP1' 'GPRASP2'\\n 'GPRC5A' 'GPRIN1' 'GPSM2' 'GPX3' 'GRIK1' 'GRM8' 'GSG2' 'GSN' 'GSTA2'\\n 'GTSE1' 'GYG2' 'GYPC' 'H2AFX' 'HAGHL' 'HAPLN1' 'HAS3' 'HBA2' 'HBD' 'HDGF'\\n 'HELLS' 'HEPACAM' 'HES6' 'HHATL' 'HIST1H1A' 'HIST1H1B' 'HIST1H1C'\\n 'HIST1H1D' 'HIST1H1E' 'HIST1H2AI' 'HIST1H2AL' 'HIST1H2AM' 'HIST1H2BD'\\n 'HIST1H2BH' 'HIST1H2BN' 'HIST1H3D' 'HIST1H3H' 'HIST1H4B' 'HIST1H4C'\\n 'HIST1H4D' 'HIST1H4H' 'HIST1H4L' 'HIST2H2AA3' 'HMG4L' 'HMGB3' 'HMGCLL1'\\n 'HMMR' 'HN1' 'HOOK1' 'HORMAD1' 'HOTAIR' 'HOXA4' 'HOXA5' 'HOXA9' 'HOXC10'\\n 'HOXC12' 'HOXC13' 'HRASLS3' 'HRASLS5' 'HS3ST3A1' 'HS3ST4' 'HS6ST3'\\n 'HSD11B1' 'HSD17B13' 'HSD17B2' 'HSD17B6' 'HSH2D' 'HSPB2' 'HSPB7' 'HYAL3'\\n 'IBSP' 'ID4' 'IER5L' 'IFI30' 'IGF1' 'IGFBP6' 'IGFL2' 'IGSF10' 'IGSF9'\\n 'IL11RA' 'IL17B' 'IL20RA' 'IL21R' 'IL33' 'IL4I1' 'IL6' 'INA' 'INCENP'\\n 'INHBA' 'INSM1' 'IQGAP3' 'IRS2' 'ISG15' 'ITGA7' 'ITIH5' 'ITM2A' 'ITPKA'\\n 'ITPR1' 'JAKMIP1' 'JAM2' 'KCNB1' 'KCNC2' 'KCNE1' 'KCNE4' 'KCNIP2'\\n 'KCNJ16' 'KCTD12' 'KCTD14' 'KIAA0101' 'KIAA0408' 'KIAA1189' 'KIAA1199'\\n 'KIAA1211' 'KIAA1257' 'KIAA1377' 'KIAA1881' 'KIF11' 'KIF14' 'KIF15'\\n 'KIF18A' 'KIF20A' 'KIF21A' 'KIF23' 'KIF26B' 'KIF2C' 'KIF4A' 'KIF4B'\\n 'KIFC1' 'KIT' 'KL' 'KLB' 'KLF4' 'KLHL13' 'KLHL29' 'KLK11' 'KLK5' 'KLK7'\\n 'KLK8' 'KLRG2' 'KPNA2' 'KREMEN2' 'KRT13' 'KRT14' 'KRT15' 'KRT17' 'KRT18'\\n 'KRT19' 'KRT37' 'KRT5' 'KRT8' 'LAGE3' 'LAMB3' 'LAMC2' 'LAMP3' 'LDB2'\\n 'LEF1' 'LEP' 'LEPR' 'LGALS12' 'LGR6' 'LHFP' 'LHX2' 'LIFR' 'LIMK1' 'LIMS2'\\n 'LIPE' 'LMNB1' 'LMNB2' 'LOC198437' 'LOC221091' 'LOC387911' 'LOC388152'\\n 'LOC388335' 'LOC401127' 'LOC441376' 'LOC55908' 'LOC91461' 'LPL' 'LRFN2'\\n 'LRP1B' 'LRP8' 'LRRC15' 'LRRC2' 'LRRC3B' 'LRRN3' 'LSR' 'LTF' 'LUZP2'\\n 'LYVE1' 'MAB21L1' 'MAD2L1' 'MAMDC2' 'MANEAL' 'MAOA' 'MAOB' 'MAP1LC3C'\\n 'MARCH4' 'MARCKSL1' 'MATN2' 'MATN3' 'MBOAT2' 'MCM10' 'MCM2' 'MCM4' 'MCM6'\\n 'MCOLN2' 'MELK' 'MEOX1' 'MEOX2' 'MEST' 'METRN' 'MEX3A' 'MFAP2' 'MFAP4'\\n 'MGC102966' 'MGC10981' 'MGC45438' 'MGLL' 'MIA' 'MIF' 'MKI67' 'MLF1IP'\\n 'MLLT11' 'MMD' 'MME' 'MMP1' 'MMP10' 'MMP11' 'MMP12' 'MMP13' 'MMP3' 'MMP9'\\n 'MMRN1' 'MND1' 'MNX1' 'MOSC1' 'MRAP' 'MT1M' 'MTHFD2' 'MUC15' 'MUCL1'\\n 'MYBL1' 'MYBL2' 'MYEOV' 'MYH1' 'MYLK' 'MYOC' 'MYOM1' 'MYOM2' 'MYOT'\\n 'MYRIP' 'NAP1L2' 'NAV3' 'NCAPD2' 'NCAPH' 'NDC80' 'NDN' 'NDRG2' 'NEIL3'\\n 'NEK2' 'NELL2' 'NETO2' 'NEURL' 'NFE2L3' 'NFIB' 'NFKBIZ' 'NKAPL' 'NKX3-2'\\n 'NLGN1' 'NMNAT2' 'NMU' 'NMUR1' 'NNAT' 'NOXO1' 'NPR1' 'NPTX2' 'NPW'\\n 'NPY1R' 'NPY2R' 'NPY5R' 'NR2F1' 'NRG2' 'NTF5' 'NTN4' 'NTRK2' 'NUAK2'\\n 'NUDT9P1' 'NUF2' 'NUP210' 'NUSAP1' 'OAS3' 'OASL' 'ODZ2' 'OGN' 'OIP5'\\n 'OLFM4' 'OLR1' 'ORC1L' 'ORC6L' 'OSM' 'OSR1' 'OTX1' 'OXTR' 'P2RY12'\\n 'P2RY5' 'P4HA3' 'PACSIN1' 'PAFAH1B3' 'PAK3' 'PAK7' 'PALMD' 'PAMCI'\\n 'PAQR4' 'PARP1' 'PAX9' 'PBK' 'PCDH17' 'PCDH18' 'PCDH9' 'PCK1' 'PCOLCE2'\\n 'PDE2A' 'PDE8B' 'PDGFD' 'PDK4' 'PDLIM3' 'PDZD2' 'PDZK1' 'PELI2' 'PENK'\\n 'PFKFB1' 'PHYHIP' 'PI15' 'PI16' 'PID1' 'PIGR' 'PIK3C2G' 'PITX1' 'PKMYT1'\\n 'PLA2G2A' 'PLA2G4A' 'PLAC1' 'PLAC2' 'PLAC9' 'PLAUR' 'PLCXD3' 'PLEKHC1'\\n 'PLEKHH2' 'PLEKHK1' 'PLIN' 'PLK1' 'PLK4' 'PLSCR4' 'POLE2' 'POLG' 'POLQ'\\n 'PON3' 'POP1' 'POSTN' 'PPAP2A' 'PPAP2B' 'PPAPDC1A' 'PPARG' 'PPAT' 'PPEF1'\\n 'PPP1R14A' 'PPP1R14B' 'PPP1R1A' 'PPP2R2B' 'PPP2R2C' 'PRAME' 'PRC1' 'PRLR'\\n 'PROS1' 'PRRG4' 'PSRC1' 'PTCHD1' 'PTGIS' 'PTGS2' 'PTHR1' 'PTN' 'PTPRZ1'\\n 'PTTG1' 'PTTG2' 'PTTG3' 'PTX3' 'PVRL4' 'PYCR1' 'RAB3C' 'RACGAP1' 'RAD51'\\n 'RAD51AP1' 'RAD54L' 'RAG1AP1' 'RAMP1' 'RAPGEF3' 'RASD1' 'RASL10A'\\n 'RASL11B' 'RBM35A' 'RBMS3' 'RBP4' 'RBP7' 'RCAN1' 'RDH5' 'RDM1' 'RECQL4'\\n 'RFXDC1' 'RGN' 'RGS2' 'RGS9BP' 'RHOU' 'RHOXF1' 'RIBC2' 'RIC3' 'RNASE4'\\n 'RNASEH2A' 'RNF150' 'RNF186' 'ROPN1' 'ROPN1B' 'RP13-102H20.1' 'RPL23AP13'\\n 'RRM2' 'RSAD2' 'RSPO3' 'RUNX1T1' 'RYR3' 'S100A14' 'S100B' 'S100P' 'SAA1'\\n 'SAA2' 'SAA3P' 'SAA4' 'SALL4' 'SAMD5' 'SCARA5' 'SCGB1D2' 'SCGB2A2' 'SCGN'\\n 'SCN4B' 'SCRG1' 'SCT' 'SDC1' 'SDPR' 'SEMA3C' 'SEMA3G' 'SEPP1' 'SFRP1'\\n 'SGCE' 'SGCG' 'SGK' 'SGK2' 'SGOL1' 'SGOL2' 'SH3D19' 'SHCBP1' 'SIM2'\\n 'SLC16A12' 'SLC16A3' 'SLC16A6' 'SLC16A7' 'SLC19A3' 'SLC22A3' 'SLC25A27'\\n 'SLC27A6' 'SLC2A4' 'SLC6A14' 'SLC7A10' 'SLPI' 'SMC4' 'SMYD1' 'SNCG'\\n 'SNTG2' 'SOCS2' 'SOD3' 'SORBS1' 'SOSTDC1' 'SOX11' 'SPAG5' 'SPATA13'\\n 'SPC25' 'SPINK5' 'SPP1' 'SPRY2' 'SQLE' 'SRPX' 'SSTR1' 'STAB2' 'STAC2'\\n 'STARD9' 'STIL' 'STMN1' 'STRA6' 'STX6' 'SULF1' 'SUSD4' 'SVEP1' 'SYCE1'\\n 'SYT13' 'SYT8' 'TAC1' 'TACC3' 'TACSTD1' 'TCEAL7' 'TCF15' 'TCN1' 'TDO2'\\n 'TEAD4' 'TESC' 'TFAP2A' 'TFPI2' 'TGFBR2' 'TGFBR3' 'THRSP' 'TIGD3'\\n 'TIMELESS' 'TIMP4' 'TK1' 'TM4SF18' 'TMEM100' 'TMEM118' 'TMEM16C'\\n 'TMEM178' 'TMEM22' 'TMEM37' 'TMEM47' 'TMEM71' 'TMEM97' 'TMPRSS4' 'TMTC1'\\n 'TNFRSF9' 'TNFSF4' 'TNMD' 'TNNT1' 'TNNT3' 'TOP2A' 'TP63' 'TPD52' 'TPO'\\n 'TPX2' 'TREM1' 'TRIM59' 'TRIP13' 'TRPA1' 'TSHZ2' 'TSLP' 'TSPAN7' 'TSPAN8'\\n 'TTK' 'TXNIP' 'TYMS' 'UBE2C' 'UBE2S' 'UBE2T' 'UGCGL1' 'UHRF1' 'UNC5B'\\n 'UTP20' 'VCAN' 'VIT' 'WBSCR28' 'WDHD1' 'WDR34' 'WDR51A' 'WIF1' 'WISP1'\\n 'WISP3' 'ZBED2' 'ZBTB16' 'ZFP36' 'ZNF695' 'ZWINT' 'ZYG11A' 'hCG_1990170'] not in index\""
     ]
    }
   ],
   "source": [
    "annotations = np.unique(go_annotations.iloc[:,0])\n",
    "res = dict.fromkeys(annotations)\n",
    "for a in annotations:\n",
    "    for c in list_clusters:\n",
    "        N = len(c)\n",
    "        genes_annotated = go_annotations[go_annotations[4]==a]\n",
    "        M = len(list(go_annotations[genes]))\n",
    "        X = len(list(genes_annotated[c]))\n",
    "        K = len(list(genes_annotated[genes]))\n",
    "        print(N, M, X, K)"
   ]
  },
  {
   "cell_type": "code",
   "execution_count": 63,
   "metadata": {},
   "outputs": [],
   "source": [
    "go_annotations = go_annotations.set_index(2)"
   ]
  },
  {
   "cell_type": "code",
   "execution_count": null,
   "metadata": {},
   "outputs": [],
   "source": []
  }
 ],
 "metadata": {
  "kernelspec": {
   "display_name": "Python 3",
   "language": "python",
   "name": "python3"
  },
  "language_info": {
   "codemirror_mode": {
    "name": "ipython",
    "version": 3
   },
   "file_extension": ".py",
   "mimetype": "text/x-python",
   "name": "python",
   "nbconvert_exporter": "python",
   "pygments_lexer": "ipython3",
   "version": "3.6.6"
  }
 },
 "nbformat": 4,
 "nbformat_minor": 2
}
