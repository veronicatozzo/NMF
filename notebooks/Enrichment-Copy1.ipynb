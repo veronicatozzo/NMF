{
 "cells": [
  {
   "cell_type": "code",
   "execution_count": 30,
   "metadata": {},
   "outputs": [],
   "source": [
    "import numpy as np\n",
    "import matplotlib.pyplot as plt\n",
    "import matplotlib\n",
    "\n",
    "matplotlib.rcParams.update({'font.size': 22})"
   ]
  },
  {
   "cell_type": "code",
   "execution_count": 44,
   "metadata": {},
   "outputs": [],
   "source": [
    "import pandas as pd\n",
    "import pickle as pkl\n",
    "import numpy as np\n",
    "\n",
    "from importlib import reload\n",
    "import nmtf.utils; reload(nmtf.utils)\n",
    "from nmtf.utils import get_clusters\n",
    "import nmtf.read; reload(nmtf.read)\n",
    "from nmtf.read import _read_enrichment_results\n",
    "import nmtf.enrichment; reload(nmtf.enrichment)\n",
    "from nmtf.enrichment import enrichment_go, enrichment_go5\n",
    "from scipy.special import binom"
   ]
  },
  {
   "cell_type": "code",
   "execution_count": 9,
   "metadata": {},
   "outputs": [],
   "source": [
    "f = \"/Users/veronica/Dropbox (DIBRIS)/project_UCL/BCStages-SubtypesNetworks/HER2Networks/AdaptiveLassoHER2.txt\"\n",
    "tb = pd.read_table(f, sep=' ')\n",
    "nodes = tb.iloc[:, 0].tolist() + tb.iloc[:, 1].tolist()\n",
    "genes = sorted(list(set(nodes)))"
   ]
  },
  {
   "cell_type": "code",
   "execution_count": 16,
   "metadata": {},
   "outputs": [],
   "source": [
    "genes = [g.lower() for g in genes]"
   ]
  },
  {
   "cell_type": "code",
   "execution_count": 13,
   "metadata": {},
   "outputs": [
    {
     "name": "stderr",
     "output_type": "stream",
     "text": [
      "/Users/veronica/miniconda3/envs/py36/lib/python3.6/site-packages/IPython/core/interactiveshell.py:2785: DtypeWarning: Columns (15) have mixed types. Specify dtype option on import or set low_memory=False.\n",
      "  interactivity=interactivity, compiler=compiler, result=result)\n"
     ]
    },
    {
     "name": "stdout",
     "output_type": "stream",
     "text": [
      "(469828, 17)\n"
     ]
    }
   ],
   "source": [
    "go_annotations = pd.read_table(\"/Users/veronica/Downloads/goa_human.gaf\", sep='\\t', skiprows=30, header=None)\n",
    "print(go_annotations.shape)\n",
    "go_annotations = go_annotations.set_index(2)\n",
    "go_annotations = go_annotations[(go_annotations[6] == 'EXP') | (go_annotations[6] == 'IDA') | \n",
    "                                (go_annotations[6] == 'IPI') | (go_annotations[6] == 'IMP')]\n",
    "go_annotations_bp = go_annotations[go_annotations[8]=='P']"
   ]
  },
  {
   "cell_type": "code",
   "execution_count": 18,
   "metadata": {},
   "outputs": [
    {
     "data": {
      "text/plain": [
       "(2894, 16)"
      ]
     },
     "execution_count": 18,
     "metadata": {},
     "output_type": "execute_result"
    }
   ],
   "source": [
    "go_annotations_bp.index = [str(s).lower() for s in go_annotations_bp.index]\n",
    "intersection = list(set(genes).intersection(set(go_annotations_bp.index)))\n",
    "subsets_annotations_go = go_annotations_bp.loc[intersection]\n",
    "subsets_annotations_go.shape"
   ]
  },
  {
   "cell_type": "code",
   "execution_count": 19,
   "metadata": {},
   "outputs": [],
   "source": [
    "go_level5 = pd.read_csv(\"/Users/veronica/Dropbox (DIBRIS)/project_UCL/data/db_GO_level5_big.csv\", index_col=0)\n",
    "intersection = list(set(genes).intersection(set(go_level5.index)))\n",
    "subsets_annotations = go_level5.loc[intersection]"
   ]
  },
  {
   "cell_type": "code",
   "execution_count": 20,
   "metadata": {},
   "outputs": [],
   "source": [
    "with open(\"/Users/veronica/Dropbox (DIBRIS)/project_ucl/small_results_matlab/results_HER2.pkl\", \"rb\") as f:\n",
    "    results = pkl.load(f)"
   ]
  },
  {
   "cell_type": "code",
   "execution_count": null,
   "metadata": {},
   "outputs": [],
   "source": [
    "subsets_annotations.shape"
   ]
  },
  {
   "cell_type": "code",
   "execution_count": 45,
   "metadata": {},
   "outputs": [],
   "source": [
    "bar1 = []\n",
    "bar2 = []\n",
    "for cl in results[3]:\n",
    "    clusters_dim = []\n",
    "    clusters = []\n",
    "    for i in np.unique(cl):\n",
    "        clusters_dim.append(np.where(cl==i)[0].shape[0])\n",
    "        clusters =  np.array(genes)[np.where(cl==1)[0]]\n",
    "    _, perc1, perc2 = enrichment_go5(clusters, clusters_dim, subsets_annotations)\n",
    "    bar1.append(perc1)\n",
    "    bar2.append(perc2)"
   ]
  },
  {
   "cell_type": "code",
   "execution_count": 46,
   "metadata": {},
   "outputs": [
    {
     "data": {
      "text/plain": [
       "[0.18823529411764706,\n",
       " 0.6,\n",
       " 0.0,\n",
       " 0.08571428571428572,\n",
       " 0.045454545454545456,\n",
       " 0.2222222222222222,\n",
       " 0.058823529411764705,\n",
       " 0.15121951219512195,\n",
       " 0.27586206896551724,\n",
       " 0.09549071618037135,\n",
       " 0.19083969465648856,\n",
       " 0.1696969696969697]"
      ]
     },
     "execution_count": 46,
     "metadata": {},
     "output_type": "execute_result"
    }
   ],
   "source": [
    "bar2"
   ]
  },
  {
   "cell_type": "code",
   "execution_count": 47,
   "metadata": {},
   "outputs": [
    {
     "data": {
      "image/png": "[encoded data removed]",
      "text/plain": [
       "<Figure size 1080x720 with 1 Axes>"
      ]
     },
     "metadata": {},
     "output_type": "display_data"
    }
   ],
   "source": [
    "# set width of bar\n",
    "barWidth = 0.06\n",
    "\n",
    "plt.figure(figsize=(15,10))\n",
    "colors = ['rosybrown', 'sandybrown', 'olivedrab', 'lightseagreen', 'navy', 'mediumpurple', 'mediumvioletred', \n",
    "          'slategray', 'r',]\n",
    "#for i in range(9):\n",
    "for i in np.arange(0,9):\n",
    "    plt.bar(i, np.array(bar1[i])*100, color=colors[i], edgecolor='white')\n",
    " \n",
    "plt.xlabel('Group', fontweight='bold')\n",
    "#plt.xticks([r + 5*barWidth for r in range(len(bars1[0]))], groups)\n",
    "plt.ylabel('KEGG enriched genes (%)')\n",
    "# Create legend & Show graphic\n",
    "#plt.legend()\n",
    "#plt.savefig(\"/Users/veronica/Dropbox (DIBRIS)/project_ucl/results_enrichment_kegg_big_genes.png\", dpi=300, transparent=True)\n",
    "plt.show()"
   ]
  },
  {
   "cell_type": "code",
   "execution_count": 48,
   "metadata": {},
   "outputs": [
    {
     "data": {
      "image/png": "[encoded data removed]",
      "text/plain": [
       "<Figure size 1080x720 with 1 Axes>"
      ]
     },
     "metadata": {},
     "output_type": "display_data"
    }
   ],
   "source": [
    "barWidth = 0.06\n",
    "\n",
    "plt.figure(figsize=(15,10))\n",
    "colors = ['rosybrown', 'sandybrown', 'olivedrab', 'lightseagreen', 'navy', 'mediumpurple', 'mediumvioletred', \n",
    "          'slategray', 'r',]\n",
    "#for i in range(9):\n",
    "for i in np.arange(0,9):\n",
    "    plt.bar(i, np.array(bar2[i])*100, color=colors[i], edgecolor='white')\n",
    " \n",
    "plt.xlabel('Group', fontweight='bold')\n",
    "#plt.xticks([r + 5*barWidth for r in range(len(bars1[0]))], groups)\n",
    "plt.ylabel('Enriched clusters (%)')\n",
    "# Create legend & Show graphic\n",
    "#plt.legend()\n",
    "plt.savefig(\"/Users/veronica/Dropbox (DIBRIS)/project_ucl/results_enrichment_go_kegg_clust.png\", dpi=300, transparent=True)\n",
    "plt.show()"
   ]
  },
  {
   "cell_type": "code",
   "execution_count": null,
   "metadata": {},
   "outputs": [],
   "source": []
  }
 ],
 "metadata": {
  "kernelspec": {
   "display_name": "Python 3",
   "language": "python",
   "name": "python3"
  },
  "language_info": {
   "codemirror_mode": {
    "name": "ipython",
    "version": 3
   },
   "file_extension": ".py",
   "mimetype": "text/x-python",
   "name": "python",
   "nbconvert_exporter": "python",
   "pygments_lexer": "ipython3",
   "version": "3.6.6"
  }
 },
 "nbformat": 4,
 "nbformat_minor": 2
}
