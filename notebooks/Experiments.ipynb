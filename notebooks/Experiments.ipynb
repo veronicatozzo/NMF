{
 "cells": [
  {
   "cell_type": "code",
   "execution_count": 52,
   "metadata": {},
   "outputs": [],
   "source": [
    "from importlib  import reload\n",
    "\n",
    "from os import listdir\n",
    "from os.path import isfile, join\n",
    "\n",
    "import nmtf.nmtf; reload(nmtf.nmtf)\n",
    "\n",
    "\n",
    "from nmtf.nmtf import SSNMTF_CV\n",
    "from nmtf.read import get_adjacency"
   ]
  },
  {
   "cell_type": "code",
   "execution_count": null,
   "metadata": {},
   "outputs": [],
   "source": [
    "HER2_folder = \"../../BCStages-SubtypesNetworks/HER2Networks/\"\n",
    "files = [join(HER2_folder, f) for f in listdir(HER2_folder) if isfile(join(HER2_folder, f))]\n",
    "\n",
    "graphs = [get_adjacency(f) for f in files]\n"
   ]
  },
  {
   "cell_type": "code",
   "execution_count": null,
   "metadata": {},
   "outputs": [],
   "source": []
  }
 ],
 "metadata": {
  "kernelspec": {
   "display_name": "Python 3",
   "language": "python",
   "name": "python3"
  },
  "language_info": {
   "codemirror_mode": {
    "name": "ipython",
    "version": 3
   },
   "file_extension": ".py",
   "mimetype": "text/x-python",
   "name": "python",
   "nbconvert_exporter": "python",
   "pygments_lexer": "ipython3",
   "version": "3.6.6"
  }
 },
 "nbformat": 4,
 "nbformat_minor": 2
}
