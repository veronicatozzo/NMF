{
 "cells": [
  {
   "cell_type": "code",
   "execution_count": 1,
   "metadata": {},
   "outputs": [],
   "source": [
    "import matlab.engine\n",
    "import numpy as np\n",
    "eng = matlab.engine.start_matlab()\n",
    "from os import listdir\n",
    "from os.path import isfile, join"
   ]
  },
  {
   "cell_type": "code",
   "execution_count": 2,
   "metadata": {},
   "outputs": [],
   "source": [
    "from nmtf.read import get_adjacency\n",
    "from nmtf.utils import connectivity_matrix, dispersion_coefficient_rho, dispersion_coefficients_eta_v"
   ]
  },
  {
   "cell_type": "code",
   "execution_count": 4,
   "metadata": {},
   "outputs": [],
   "source": [
    "llll = [np.random.rand(10,10) for i in range(5)]\n",
    "llll_matlab = [matlab.double(l.tolist()) for l in llll]"
   ]
  },
  {
   "cell_type": "code",
   "execution_count": 73,
   "metadata": {},
   "outputs": [],
   "source": [
    "a = llll[0]\n",
    "a = a.dot(a.T)\n",
    "a_m = matlab.double(a.tolist())"
   ]
  },
  {
   "cell_type": "code",
   "execution_count": 6,
   "metadata": {},
   "outputs": [
    {
     "data": {
      "text/plain": [
       "matlab.double([[(5.260358345149861+0j)],[(0.919656325938843+0.13501431679086165j)],[(0.919656325938843-0.13501431679086165j)],[(-0.46295041583254604+0.6004891091572867j)],[(-0.46295041583254604-0.6004891091572867j)],[(-0.6544867901265474+0j)],[(-0.37178881269107944+0j)],[(-0.10283800784080303+0j)],[(0.4747087317900689+0.14555988610363343j)],[(0.4747087317900689-0.14555988610363343j)]], is_complex=True)"
      ]
     },
     "execution_count": 6,
     "metadata": {},
     "output_type": "execute_result"
    }
   ],
   "source": [
    "eng.eig(llll_matlab[0])"
   ]
  },
  {
   "cell_type": "code",
   "execution_count": 61,
   "metadata": {},
   "outputs": [
    {
     "data": {
      "text/plain": [
       "matlab.double([[0.4613022064448561,-0.33476965782239054,0.029060595253360688,0.4685851376194543,0.039539062383689205,-0.4931237785336158,0.012725901254508454,0.17054874789908037,0.00898263210757766,0.3817263809890691]])"
      ]
     },
     "execution_count": 61,
     "metadata": {},
     "output_type": "execute_result"
    }
   ],
   "source": [
    "a"
   ]
  },
  {
   "cell_type": "code",
   "execution_count": 60,
   "metadata": {},
   "outputs": [
    {
     "data": {
      "text/plain": [
       "matlab.double([[0.4613022064448561,0.0,0.029060595253360688,0.4685851376194543,0.039539062383689205,0.0,0.012725901254508454,0.17054874789908037,0.00898263210757766,0.3817263809890691]])"
      ]
     },
     "execution_count": 60,
     "metadata": {},
     "output_type": "execute_result"
    }
   ],
   "source": [
    "a = matlab.double((llll[0]-0.5)[0,:].tolist())\n",
    "eng.max(a, matlab.double(np.zeros((1,10)).tolist()))"
   ]
  },
  {
   "cell_type": "code",
   "execution_count": 12,
   "metadata": {},
   "outputs": [],
   "source": [
    "from scipy.linalg import eig"
   ]
  },
  {
   "cell_type": "code",
   "execution_count": 81,
   "metadata": {},
   "outputs": [],
   "source": [
    "from importlib import reload\n",
    "\n",
    "import nmtf.nmtf; reload(nmtf.nmtf)\n",
    "from nmtf.nmtf import _init_svd"
   ]
  },
  {
   "cell_type": "code",
   "execution_count": 95,
   "metadata": {},
   "outputs": [
    {
     "data": {
      "text/plain": [
       "array([[9.45537833e+00, 6.84652623e-01, 6.69556447e-11],\n",
       "       [9.09143196e+00, 2.08678689e-08, 4.68972071e-11],\n",
       "       [9.65035663e+00, 1.53661848e+00, 1.04558272e-01],\n",
       "       [7.17413592e+00, 1.55053317e-10, 8.03383009e-01],\n",
       "       [1.01419357e+01, 8.57335648e-11, 3.08849711e-11],\n",
       "       [9.04710439e+00, 6.22911846e-12, 3.30429043e-01],\n",
       "       [1.02908393e+01, 2.79774503e-11, 6.37705497e-01],\n",
       "       [8.53041566e+00, 7.03037881e-02, 1.05485834e+00],\n",
       "       [6.91303686e+00, 8.76025636e-01, 3.56732364e-01],\n",
       "       [8.78599297e+00, 2.61527558e-10, 9.46889565e-10]])"
      ]
     },
     "execution_count": 95,
     "metadata": {},
     "output_type": "execute_result"
    }
   ],
   "source": [
    " S, G, rse = eng.SSNMTF([a_m], [], 5, 0, 200, 0, nargout=3)\n",
    "np.real(np.array(G))"
   ]
  },
  {
   "cell_type": "code",
   "execution_count": 96,
   "metadata": {},
   "outputs": [
    {
     "data": {
      "text/plain": [
       "array([[9.45207350e+00, 6.60174620e-01, 9.58359538e-11],\n",
       "       [9.09881011e+00, 1.78951912e-10, 9.07438913e-11],\n",
       "       [9.65072429e+00, 1.56026652e+00, 8.30734974e-02],\n",
       "       [7.17607800e+00, 1.00124354e-10, 8.34924098e-01],\n",
       "       [1.01379662e+01, 9.79229723e-11, 8.57293054e-11],\n",
       "       [9.03482333e+00, 7.65052626e-11, 1.59435455e-01],\n",
       "       [1.02811602e+01, 8.93544042e-11, 4.93352703e-01],\n",
       "       [8.53592216e+00, 2.32444960e-02, 1.13720741e+00],\n",
       "       [6.91479153e+00, 8.77502806e-01, 4.11311580e-01],\n",
       "       [8.80172875e+00, 1.09030213e-10, 1.14929856e-10]])"
      ]
     },
     "execution_count": 96,
     "metadata": {},
     "output_type": "execute_result"
    }
   ],
   "source": [
    "from nmtf.utils import get_clusters\n",
    "np.real(est.G_)"
   ]
  },
  {
   "cell_type": "code",
   "execution_count": 93,
   "metadata": {},
   "outputs": [
    {
     "name": "stdout",
     "output_type": "stream",
     "text": [
      "[ 9.45178234  9.10471734  9.65228308  7.17604135 10.13177114  9.02900781\n",
      " 10.2822335   8.53707119  6.91224785  8.80698269]\n",
      "[0.         0.04024809 0.         0.15379963 0.42940208 1.08560128\n",
      " 0.73222363 0.         0.         0.49063541]\n",
      "[0.74369604 0.72924875 0.         0.         0.96740072 0.\n",
      " 0.         0.         0.         0.20950625]\n"
     ]
    },
    {
     "name": "stderr",
     "output_type": "stream",
     "text": [
      "/Users/veronica/Desktop/git_repos/NMF/nmtf/nmtf.py:101: RuntimeWarning: invalid value encountered in double_scalars\n",
      "  obj_diff = np.abs((obj_old - obj))/np.abs(obj_old)\n"
     ]
    },
    {
     "data": {
      "text/plain": [
       "SSNMTF(G_init=array([[9.45207e+00, 6.60175e-01, 9.58360e-11],\n",
       "       [9.09881e+00, 1.78952e-10, 9.07439e-11],\n",
       "       [9.65072e+00, 1.56027e+00, 8.30735e-02],\n",
       "       [7.17608e+00, 1.00124e-10, 8.34924e-01],\n",
       "       [1.01380e+01, 9.79230e-11, 8.57293e-11],\n",
       "       [9.03482e+00, 7.65053e-11, 1.59435e-01],\n",
       "       [1.02812e+01, 8.93544e-11, 4.93353e-01],\n",
       "       [8.53592e+00, 2.32445e-02, 1.13721e+00],\n",
       "       [6.91479e+00, 8.77503e-01, 4.11312e-01],\n",
       "       [8.80173e+00, 1.09030e-10, 1.14930e-10]]),\n",
       "    adjacencies=None, compute_ktt=False, epsilon=1e-10, gamma=0,\n",
       "    init='SVD', k=5, max_iter=500,\n",
       "    random_state=<mtrand.RandomState object at 0x10d0c2e10>, rtol=1e-08,\n",
       "    tol=0.01, verbose=0)"
      ]
     },
     "execution_count": 93,
     "metadata": {},
     "output_type": "execute_result"
    }
   ],
   "source": [
    "from nmtf.nmtf import SSNMTF\n",
    "est = SSNMTF(5)\n",
    "est.fit([a])"
   ]
  },
  {
   "cell_type": "code",
   "execution_count": 56,
   "metadata": {},
   "outputs": [
    {
     "name": "stdout",
     "output_type": "stream",
     "text": [
      "1000\n",
      "1000\n",
      "1000\n",
      "1000\n",
      "1000\n",
      "1000\n",
      "1000\n",
      "1000\n",
      "1000\n",
      "1000\n",
      "1000\n"
     ]
    }
   ],
   "source": [
    "folder = \"/Users/veronica/Dropbox (DIBRIS)/project_UCL/BCStages-SubtypesNetworks/HER2Networks\"\n",
    "files = [join(folder, f) for f in listdir(folder) if isfile(join(folder, f))]\n",
    "graphs = [get_adjacency(f) for f in files]"
   ]
  },
  {
   "cell_type": "code",
   "execution_count": null,
   "metadata": {},
   "outputs": [],
   "source": [
    "'/cs/sys/software2/Matlab/matlab-R2018a'"
   ]
  },
  {
   "cell_type": "code",
   "execution_count": null,
   "metadata": {},
   "outputs": [],
   "source": [
    "ll = [matlab.double(l.tolist()) for l in graphs]\n",
    "ks = np.arange(5, 55, 10)\n",
    "n_repetitions = 1\n",
    "\n"
   ]
  },
  {
   "cell_type": "code",
   "execution_count": 92,
   "metadata": {},
   "outputs": [
    {
     "name": "stdout",
     "output_type": "stream",
     "text": [
      "Done 5 coefficients 1.0000, 1.1644, 1.1745\n",
      "Done 15 coefficients 1.0000, 1.0645, 1.0509\n",
      "Done 25 coefficients 1.0000, 1.0912, 1.0663\n",
      "Done 35 coefficients 1.0000, 1.1043, 1.0679\n",
      "Done 45 coefficients 1.0000, 1.2671, 1.2136\n"
     ]
    }
   ],
   "source": [
    "res = dict.fromkeys(ks)\n",
    "for k in ks:\n",
    "    consensus = np.zeros((1000,1000))\n",
    "    for rep_ in range(n_repetitions):\n",
    "        S, G, rse = eng.SSNMTF(ll, [], int(k), 0, 200, 1, nargout=3)\n",
    "        conn_matrix = connectivity_matrix(np.real(np.array(G)))\n",
    "        consensus += conn_matrix\n",
    "    consensus /= n_repetitions\n",
    "    rho = dispersion_coefficient_rho(consensus)\n",
    "    eta, v = dispersion_coefficients_eta_v(consensus, k)\n",
    "    res[k] = [consensus, rho, eta, v]\n",
    "    print(\"Done %d coefficients %.4f, %.4f, %.4f\"%(k, rho, eta, v))"
   ]
  },
  {
   "cell_type": "code",
   "execution_count": 57,
   "metadata": {},
   "outputs": [],
   "source": [
    "t = folder.split(\"/\")[-1].split('.')[-2]\n",
    "with open(\"results/\"+t+\".pkl\", \"wb\") as f:\n",
    "    pkl.dump(res, f)"
   ]
  },
  {
   "cell_type": "code",
   "execution_count": 66,
   "metadata": {},
   "outputs": [],
   "source": [
    "Ss = []\n",
    "Gs = []\n",
    "RSEs = []\n",
    "for g in graphs:\n",
    "    ll = [matlab.double(g.tolist())]\n",
    "    S, G, rse = eng.SSNMTF(ll, [], 14, 0, 200, nargout=3)\n",
    "    Ss.append(np.real(np.array(S)))\n",
    "    Gs.append(np.real(np.array(G)))\n",
    "    RSEs.append(rse)"
   ]
  },
  {
   "cell_type": "code",
   "execution_count": 67,
   "metadata": {},
   "outputs": [],
   "source": [
    "clusters = []\n",
    "for G in Gs:\n",
    "    clusters.append(np.argmax(G, axis=1))"
   ]
  },
  {
   "cell_type": "code",
   "execution_count": 70,
   "metadata": {},
   "outputs": [],
   "source": []
  },
  {
   "cell_type": "code",
   "execution_count": 71,
   "metadata": {},
   "outputs": [],
   "source": [
    "Ss.append(np.real(np.array(S)))\n",
    "Gs.append(np.real(np.array(G)))\n",
    "RSEs.append(rse)\n",
    "clusters.append(np.argmax(G, axis=1))"
   ]
  },
  {
   "cell_type": "code",
   "execution_count": 74,
   "metadata": {},
   "outputs": [],
   "source": [
    "import pickle as pkl\n",
    "results = [Ss, Gs, RSEs, clusters]\n",
    "with open(\"/Users/veronica/Dropbox (DIBRIS)/project_ucl/small_results_matlab/results_HER2.pkl\", \"wb\") as f:\n",
    "    pkl.dump(results, f, protocol=2)"
   ]
  },
  {
   "cell_type": "code",
   "execution_count": null,
   "metadata": {},
   "outputs": [],
   "source": []
  }
 ],
 "metadata": {
  "kernelspec": {
   "display_name": "Python 3",
   "language": "python",
   "name": "python3"
  },
  "language_info": {
   "codemirror_mode": {
    "name": "ipython",
    "version": 3
   },
   "file_extension": ".py",
   "mimetype": "text/x-python",
   "name": "python",
   "nbconvert_exporter": "python",
   "pygments_lexer": "ipython3",
   "version": "3.6.6"
  }
 },
 "nbformat": 4,
 "nbformat_minor": 2
}
