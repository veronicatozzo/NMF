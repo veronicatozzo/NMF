{
 "cells": [
  {
   "cell_type": "code",
   "execution_count": 54,
   "metadata": {},
   "outputs": [],
   "source": [
    "import matlab.engine\n",
    "import numpy as np\n",
    "eng = matlab.engine.start_matlab()\n",
    "from os import listdir\n",
    "from os.path import isfile, join"
   ]
  },
  {
   "cell_type": "code",
   "execution_count": 76,
   "metadata": {},
   "outputs": [],
   "source": [
    "from nmtf.read import get_adjacency\n",
    "from nmtf.utils import connectivity_matrix, dispersion_coefficient_rho, dispersion_coefficients_eta_v"
   ]
  },
  {
   "cell_type": "code",
   "execution_count": 56,
   "metadata": {},
   "outputs": [
    {
     "name": "stdout",
     "output_type": "stream",
     "text": [
      "1000\n",
      "1000\n",
      "1000\n",
      "1000\n",
      "1000\n",
      "1000\n",
      "1000\n",
      "1000\n",
      "1000\n",
      "1000\n",
      "1000\n"
     ]
    }
   ],
   "source": [
    "folder = \"/Users/veronica/Dropbox (DIBRIS)/project_UCL/BCStages-SubtypesNetworks/HER2Networks\"\n",
    "files = [join(folder, f) for f in listdir(folder) if isfile(join(folder, f))]\n",
    "graphs = [get_adjacency(f) for f in files]"
   ]
  },
  {
   "cell_type": "code",
   "execution_count": null,
   "metadata": {},
   "outputs": [],
   "source": [
    "'/cs/sys/software2/Matlab/matlab-R2018a'"
   ]
  },
  {
   "cell_type": "code",
   "execution_count": null,
   "metadata": {},
   "outputs": [],
   "source": [
    "ll = [matlab.double(l.tolist()) for l in graphs]\n",
    "ks = np.arange(5, 55, 10)\n",
    "n_repetitions = 1\n",
    "\n",
    "res = dict.fromkeys(ks)\n",
    "for k in ks:\n",
    "    consensus = np.zeros((1000,1000))\n",
    "    for rep_ in range(n_repetitions):\n",
    "        S, G, rse = eng.SSNMTF(ll, [], k, 0, 200, True, nargout=3)\n",
    "        conn_matrix = connectivity_matrix(np.real(np.array(G)))\n",
    "        consensus += conn_matrix\n",
    "    consensus /= n_repetitions\n",
    "    rho = dispersion_coefficient_rho(consensus)\n",
    "    eta, v = dispersion_coefficients_eta_v(consensus)\n",
    "    res[k] = [consensus, rho, eta, v]\n",
    "    print(\"Done %d coefficients %.4f, %.4f, %.4f\"%(k, rho, eta, v))\n"
   ]
  },
  {
   "cell_type": "code",
   "execution_count": 57,
   "metadata": {},
   "outputs": [],
   "source": [
    "t = folder.split(\"/\")[-1].split('.')[-2]\n",
    "with open(\"results/\"+t+\".pkl\", \"wb\") as f:\n",
    "    pkl.dump(res, f)"
   ]
  },
  {
   "cell_type": "code",
   "execution_count": 66,
   "metadata": {},
   "outputs": [],
   "source": [
    "Ss = []\n",
    "Gs = []\n",
    "RSEs = []\n",
    "for g in graphs:\n",
    "    ll = [matlab.double(g.tolist())]\n",
    "    S, G, rse = eng.SSNMTF(ll, [], 14, 0, 200, nargout=3)\n",
    "    Ss.append(np.real(np.array(S)))\n",
    "    Gs.append(np.real(np.array(G)))\n",
    "    RSEs.append(rse)"
   ]
  },
  {
   "cell_type": "code",
   "execution_count": 67,
   "metadata": {},
   "outputs": [],
   "source": [
    "clusters = []\n",
    "for G in Gs:\n",
    "    clusters.append(np.argmax(G, axis=1))"
   ]
  },
  {
   "cell_type": "code",
   "execution_count": 70,
   "metadata": {},
   "outputs": [],
   "source": []
  },
  {
   "cell_type": "code",
   "execution_count": 71,
   "metadata": {},
   "outputs": [],
   "source": [
    "Ss.append(np.real(np.array(S)))\n",
    "Gs.append(np.real(np.array(G)))\n",
    "RSEs.append(rse)\n",
    "clusters.append(np.argmax(G, axis=1))"
   ]
  },
  {
   "cell_type": "code",
   "execution_count": 74,
   "metadata": {},
   "outputs": [],
   "source": [
    "import pickle as pkl\n",
    "results = [Ss, Gs, RSEs, clusters]\n",
    "with open(\"/Users/veronica/Dropbox (DIBRIS)/project_ucl/small_results_matlab/results_HER2.pkl\", \"wb\") as f:\n",
    "    pkl.dump(results, f, protocol=2)"
   ]
  },
  {
   "cell_type": "code",
   "execution_count": null,
   "metadata": {},
   "outputs": [],
   "source": []
  }
 ],
 "metadata": {
  "kernelspec": {
   "display_name": "Python 3",
   "language": "python",
   "name": "python3"
  },
  "language_info": {
   "codemirror_mode": {
    "name": "ipython",
    "version": 3
   },
   "file_extension": ".py",
   "mimetype": "text/x-python",
   "name": "python",
   "nbconvert_exporter": "python",
   "pygments_lexer": "ipython3",
   "version": "3.6.6"
  }
 },
 "nbformat": 4,
 "nbformat_minor": 2
}
